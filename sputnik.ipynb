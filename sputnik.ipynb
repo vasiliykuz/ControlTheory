{
 "cells": [
  {
   "cell_type": "code",
   "execution_count": 1,
   "metadata": {},
   "outputs": [
    {
     "name": "stderr",
     "output_type": "stream",
     "text": [
      "<frozen importlib._bootstrap>:219: RuntimeWarning: scipy._lib.messagestream.MessageStream size changed, may indicate binary incompatibility. Expected 28 from C header, got 32 from PyObject\n"
     ]
    }
   ],
   "source": [
    "import numpy as np\n",
    "import scipy.integrate as sci\n",
    "import matplotlib.pyplot as plt\n",
    "import numpy as np"
   ]
  },
  {
   "cell_type": "code",
   "execution_count": 2,
   "metadata": {},
   "outputs": [],
   "source": [
    "J = np.array([[1.03, 0 , 0], [0, 1.54, 0], [0, 0, 1.82]])\n",
    "Lambda0 = 10**(-4)\n",
    "delta_b2 = 0.001\n",
    "lambdaa = 0.07\n",
    "P= 1e-3 * np.eye(3)\n",
    "delta_t = 0.1\n",
    "Lambda_k = Lambda0 * np.eye(3)\n",
    "i = np.pi/3\n",
    "J_inv = np.linalg.inv(J)\n",
    "w0 = 2*np.pi*(1-3*400/6400)/(24*3600)\n",
    "B0 = 2.48e-5\n",
    "\n",
    "#initial conditions\n",
    "a0 = [np.pi/12, np.pi/6, np.pi/3]\n",
    "d11 = np.cos(a0[0])*np.cos(a0[1])\n",
    "d12 = np.sin(a0[1])\n",
    "d13 = -np.sin(a0[0])*np.cos(a0[1])\n",
    "d21 = -np.cos(a0[0])*np.sin(a0[1])*np.cos(a0[2]+np.sin(a0[0]))*np.sin(a0[2])\n",
    "d22 = np.cos(a0[1])*np.cos(a0[2])\n",
    "d23 = np.sin(a0[0])*np.sin(a0[1])*np.cos(a0[2])+np.cos(a0[0])*np.sin(a0[2])\n",
    "d31 = np.sin(a0[0])*np.cos(a0[2])+np.cos(a0[0])*np.sin(a0[1])*np.sin(a0[2])\n",
    "d32 = -np.cos(a0[1])*np.sin(a0[2])\n",
    "d33 = -np.sin(a0[0])*np.sin(a0[1])*np.sin(a0[2])+np.cos(a0[0])*np.cos(a0[2])"
   ]
  },
  {
   "cell_type": "code",
   "execution_count": 3,
   "metadata": {},
   "outputs": [],
   "source": [
    "def to_raw(x):\n",
    "    return x.reshape(1, -1).squeeze()\n",
    "\n",
    "def module(x):\n",
    "    x = to_raw(x)\n",
    "    return np.sqrt(np.sum(x**2))\n",
    "\n",
    "def scalar(x, y):\n",
    "    x = to_raw(x)\n",
    "    y = to_raw(y)\n",
    "    \n",
    "    return np.dot(x, y)"
   ]
  },
  {
   "cell_type": "code",
   "execution_count": 4,
   "metadata": {},
   "outputs": [
    {
     "name": "stdout",
     "output_type": "stream",
     "text": [
      "[[0]\n",
      " [1]\n",
      " [2]]\n",
      "[[0 1 2]\n",
      " [3 4 5]\n",
      " [6 7 8]]\n",
      "[[ 5]\n",
      " [14]\n",
      " [23]]\n"
     ]
    }
   ],
   "source": [
    "a = np.arange(3).reshape(-1, 1)\n",
    "b = np.arange(9).reshape(3, 3)\n",
    "\n",
    "print(a)\n",
    "print(b)\n",
    "print(np.dot(b, a))"
   ]
  },
  {
   "cell_type": "code",
   "execution_count": 5,
   "metadata": {},
   "outputs": [
    {
     "data": {
      "text/plain": [
       "\"\\nx0  = [0.05, 0.1, 0.17, d11, d12, d13, d21, d22, d23, d31, d32, d33]\\nw = np.array(x0[0:3])\\nA = np.array(x0[3:]).reshape(3, 3)\\n\\n    S_proiz1 = -w[2]*A[0, 2] + w[0]*A[2, 2] - w[1]*A[0, 1] + w[0]*A[1, 1]\\n    S_proiz2 = w[1]*A[0,0] - w[0]*A[1,0] - w[2]*A[1, 2] + w[1]*A[2, 2]\\n    S_proiz3 = w[2]*A[1, 1] - w[1]*A[2, 1] + w[2]*A[0,0] - w[0]*A[2, 2]\\n    S_proiz = np.array([S_proiz1, S_proiz2, S_proiz3]).reshape(-1, 1)\\n    \\n    S1 = A[1,2] - A[2,1]\\n    S2 = A[2,0] - A[0,2]\\n    S3 = A[0,1] - A[1,0]\\n    S = np.array([S1, S2, S3]).reshape(-1, 1)\\n    \\n    M1 = (J[2,2]-J[1,1])*(-A[0,0]*A[0,2])\\n    M2 = (J[2,2]-J[0,0])*(A[0,0]*A[0,1])\\n    M3 = (J[0,0]-J[1,1])*(A[0,1]*A[0,2])\\n    M = 3*w0**2*np.array([M1, M2, M3]).reshape(-1, 1)\\n\\n    u = w0*t\\n    B1 = -2*np.sin(u) * np.sin(i)\\n    B2 = np.cos(u)*np.sin(i)\\n    B3 = np.cos(i)\\n    B = (B0*np.array([B1, B2, B3])).reshape(-1, 1)\\n    \\n    w_col = w.reshape(-1, 1)\\n    a = (lambdaa*(np.cross(w, to_raw(np.dot(J,w_col))).reshape(-1, 1) - M) - np.dot(l,(np.dot(J,S_proiz) + np.dot(P,S))) - lambdaa*np.dot(P,w_col))*delta_t + np.dot(np.dot(l,J),S)\\n    a1 = scalar(a, B)/module(B)\\n    b = -np.dot(J,S)\\n    b1 = -scalar(b, B) / module(B)\\n    d = lambdaa*delta_t*B\\n    mod_b = module(b)\\n    mod_d = module(d)\\n    print(mod_b, mod_d, np.cross(to_raw(d), to_raw(b)))\\n    print('------------------------')\\n    b2 = mod_b**2 * mod_d / module(np.cross(to_raw(d), to_raw(b))) - scalar(b, d)**2 / (module(np.cross(to_raw(d), to_raw(b)))*mod_d)\\n    \\n    \\n    l = np.copy(Lambda_k)\\n    l[2, 2] = Lambda0\\n    l[0, 0] = Lambda0\\n    l[0, 1] = (-a1- l[0, 0]*b1)*(b2+delta_b2)\\n    l[1, 0] = np.copy(l[0, 1]) \\n    l[1, 1] = Lambda0 + l[0, 1]**2 / l[0, 0]\\n    \""
      ]
     },
     "execution_count": 5,
     "metadata": {},
     "output_type": "execute_result"
    }
   ],
   "source": [
    "'''\n",
    "x0  = [0.05, 0.1, 0.17, d11, d12, d13, d21, d22, d23, d31, d32, d33]\n",
    "w = np.array(x0[0:3])\n",
    "A = np.array(x0[3:]).reshape(3, 3)\n",
    "\n",
    "    S_proiz1 = -w[2]*A[0, 2] + w[0]*A[2, 2] - w[1]*A[0, 1] + w[0]*A[1, 1]\n",
    "    S_proiz2 = w[1]*A[0,0] - w[0]*A[1,0] - w[2]*A[1, 2] + w[1]*A[2, 2]\n",
    "    S_proiz3 = w[2]*A[1, 1] - w[1]*A[2, 1] + w[2]*A[0,0] - w[0]*A[2, 2]\n",
    "    S_proiz = np.array([S_proiz1, S_proiz2, S_proiz3]).reshape(-1, 1)\n",
    "    \n",
    "    S1 = A[1,2] - A[2,1]\n",
    "    S2 = A[2,0] - A[0,2]\n",
    "    S3 = A[0,1] - A[1,0]\n",
    "    S = np.array([S1, S2, S3]).reshape(-1, 1)\n",
    "    \n",
    "    M1 = (J[2,2]-J[1,1])*(-A[0,0]*A[0,2])\n",
    "    M2 = (J[2,2]-J[0,0])*(A[0,0]*A[0,1])\n",
    "    M3 = (J[0,0]-J[1,1])*(A[0,1]*A[0,2])\n",
    "    M = 3*w0**2*np.array([M1, M2, M3]).reshape(-1, 1)\n",
    "\n",
    "    u = w0*t\n",
    "    B1 = -2*np.sin(u) * np.sin(i)\n",
    "    B2 = np.cos(u)*np.sin(i)\n",
    "    B3 = np.cos(i)\n",
    "    B = (B0*np.array([B1, B2, B3])).reshape(-1, 1)\n",
    "    \n",
    "    w_col = w.reshape(-1, 1)\n",
    "    a = (lambdaa*(np.cross(w, to_raw(np.dot(J,w_col))).reshape(-1, 1) - M) - np.dot(l,(np.dot(J,S_proiz) + np.dot(P,S))) - lambdaa*np.dot(P,w_col))*delta_t + np.dot(np.dot(l,J),S)\n",
    "    a1 = scalar(a, B)/module(B)\n",
    "    b = -np.dot(J,S)\n",
    "    b1 = -scalar(b, B) / module(B)\n",
    "    d = lambdaa*delta_t*B\n",
    "    mod_b = module(b)\n",
    "    mod_d = module(d)\n",
    "    print(mod_b, mod_d, np.cross(to_raw(d), to_raw(b)))\n",
    "    print('------------------------')\n",
    "    b2 = mod_b**2 * mod_d / module(np.cross(to_raw(d), to_raw(b))) - scalar(b, d)**2 / (module(np.cross(to_raw(d), to_raw(b)))*mod_d)\n",
    "    \n",
    "    \n",
    "    l = np.copy(Lambda_k)\n",
    "    l[2, 2] = Lambda0\n",
    "    l[0, 0] = Lambda0\n",
    "    l[0, 1] = (-a1- l[0, 0]*b1)*(b2+delta_b2)\n",
    "    l[1, 0] = np.copy(l[0, 1]) \n",
    "    l[1, 1] = Lambda0 + l[0, 1]**2 / l[0, 0]\n",
    "    '''"
   ]
  },
  {
   "cell_type": "code",
   "execution_count": 6,
   "metadata": {},
   "outputs": [
    {
     "name": "stdout",
     "output_type": "stream",
     "text": [
      "[0.05, 0.1, 0.17, 0.8365163037378079, 0.49999999999999994, -0.2241438680420134, -0.10945677029201256, 0.43301270189221946, 0.901221065013438, 0.5476676744201643, -0.75, 0.37089097912352764]\n"
     ]
    }
   ],
   "source": [
    "# y = 12-array [w1, w2, w3, a11, a12, a13, a21+ ...]\n",
    "                        \n",
    "def lambda_iter(t, w, A, l):\n",
    "    \n",
    "    S_proiz1 = -w[2]*A[0, 2]+w[0]*A[2, 2]-w[1]*A[0, 1] + w[0]*A[1, 1]\n",
    "    S_proiz2 = w[1]*A[0,0] - w[0]*A[1,0] - w[2]*A[1, 2] + w[1]*A[2, 2]\n",
    "    S_proiz3 = w[2]*A[1, 1] - w[1]*A[2, 1] + w[2]*A[0,0] - w[0]*A[2, 2]\n",
    "    S_proiz = np.array([S_proiz1, S_proiz2, S_proiz3]).reshape(-1, 1)\n",
    "    \n",
    "    S1 = A[1,2] - A[2,1]\n",
    "    S2 = A[2,0] - A[0,2]\n",
    "    S3 = A[0,1] - A[1,0]\n",
    "    S = np.array([S1, S2, S3]).reshape(-1, 1)\n",
    "    \n",
    "    M1 = (J[2,2]-J[1,1])*(-A[0,0]*A[0,2])\n",
    "    M2 = (J[2,2]-J[0,0])*(A[0,0]*A[0,1])\n",
    "    M3 = (J[0,0]-J[1,1])*(A[0,1]*A[0,2])\n",
    "    M = 3*w0**2*np.array([M1, M2, M3]).reshape(-1, 1)\n",
    "\n",
    "    u = w0*t\n",
    "    B1 = -2*np.sin(u) * np.sin(i)\n",
    "    B2 = np.cos(u)*np.sin(i)\n",
    "    B3 = np.cos(i)\n",
    "    B = (B0*np.array([B1, B2, B3])).reshape(-1, 1)\n",
    "    \n",
    "    w_col = w.reshape(-1, 1)\n",
    "    a = (lambdaa*(np.cross(w, to_raw(np.dot(J,w_col))).reshape(-1, 1) - M) - np.dot(l,(np.dot(J,S_proiz) + np.dot(P,S))) - lambdaa*np.dot(P,w_col))*delta_t + np.dot(np.dot(l,J),S)\n",
    "    a1 = scalar(a, B)/module(B)\n",
    "    b = -np.dot(J,S)\n",
    "    b1 = -scalar(b, B) / module(B)\n",
    "    d = lambdaa*delta_t*B\n",
    "    mod_b = module(b)\n",
    "    mod_d = module(d)\n",
    "    b2 = mod_b**2 * mod_d / module(np.cross(to_raw(d), to_raw(b))) - scalar(b, d)**2 / (module(np.cross(to_raw(d), to_raw(b)))*mod_d)\n",
    "    \n",
    "    \n",
    "    #print(A)\n",
    "    #print('------------------------')\n",
    "    \n",
    "    return S_proiz, S, M, B\n",
    "\n",
    "    \n",
    "def rhs_dbl_int(t, y):\n",
    "    \n",
    "    global Lambda_k\n",
    "    w = y[0:3]\n",
    "    w_col = w.reshape(-1, 1)\n",
    "    A = y[3:].reshape(3, 3)\n",
    "    W = np.array([[0, w[2], -w[1]], [-w[2], 0, w[0]], [w[1], -w[0], 0]])\n",
    "    #w = w.reshape(-1, 1)\n",
    "    \n",
    "    dwdt = np.zeros(3)\n",
    "    dAdt = np.zeros((3, 3))\n",
    "    S_proiz, S, M, B = lambda_iter(t, w, A, Lambda_k)\n",
    "    mxB = np.cross(w, to_raw(np.dot(J, w_col))).reshape(-1, 1) - M - np.dot(np.dot(Lambda_k,J),S)/lambdaa - np.dot(Lambda_k, (np.dot(J,S_proiz) + np.dot(P,S)))/lambdaa - np.dot(P, w_col)\n",
    "    \n",
    "    #dwdt = to_raw(np.dot(J_inv, (-np.dot(np.dot(Lambda_proiz,J),S)/lambdaa - np.dot(Lambda_k,(np.dot(J,S_proiz) + np.dot(P,S)))/lambdaa - np.dot(P, w.reshape(-1, 1))))) \n",
    "    \n",
    "    dwdt = to_raw(np.dot(J_inv, M + mxB - np.cross(w, to_raw(np.dot(J, w.reshape(-1, 1)))).reshape(-1, 1)))\n",
    "                  \n",
    "    '''    dxdt[4] = y[2]*y[7] - y[1]*y[10] # A12\n",
    "    dxdt[6] = -y[2]*y[3] + y[0]*y[11] # A21\n",
    "    dxdt[5] = y[2]*y[8] - y[1]*y[11] # A13\n",
    "    dxdt[9] = y[1]*y[3] - y[0]*y[6] # A31\n",
    "    dxdt[8] = -y[2]*y[5] + y[0]*y[11] # A23\n",
    "    dxdt[10] = y[1]*y[4] - y[0]*y[7] # A32\n",
    "    '''\n",
    "    \n",
    "    dAdt = np.dot(W,A)\n",
    "\n",
    "    dxdt = np.concatenate((to_raw(dwdt), dAdt.reshape(1, -1).squeeze()), axis=None)\n",
    "    \n",
    "    #print(dxdt)\n",
    "    #print('-------------------------')\n",
    "    return dxdt\n",
    "\n",
    "x0  = [0.05, 0.1, 0.17, d11, d12, d13, d21, d22, d23, d31, d32, d33]\n",
    "print(x0)\n",
    "t0 = 0\n",
    "tf  = 7200\n",
    "t_eval = np.linspace(t0, tf, 72000)\n",
    "\n",
    "sol_dbl_int = sci.solve_ivp(rhs_dbl_int, [t0, tf], x0, t_eval = t_eval, rtol  =1e-10, atol = 1e-10)"
   ]
  },
  {
   "cell_type": "code",
   "execution_count": 7,
   "metadata": {},
   "outputs": [
    {
     "data": {
      "image/png": "[encoded data removed]",
      "text/plain": [
       "<Figure size 432x288 with 1 Axes>"
      ]
     },
     "metadata": {
      "needs_background": "light"
     },
     "output_type": "display_data"
    }
   ],
   "source": [
    "#, t_eval = t_eval, rtol  =1e-10, atol = 1e-10\n",
    "y = sol_dbl_int.y.T\n",
    "#print(sol_dbl_int.y, sol_dbl_int.y.shape)\n",
    "plt.plot(t_eval, y[:,0], label = 'wx')\n",
    "plt.plot(t_eval, y[:,1], label = 'wy')\n",
    "plt.plot(t_eval, y[:,2], label = 'wz')\n",
    "plt.legend(loc='lower left')\n",
    "plt.grid()\n",
    "plt.show()"
   ]
  },
  {
   "cell_type": "code",
   "execution_count": 8,
   "metadata": {},
   "outputs": [
    {
     "data": {
      "image/png": "[encoded data removed]",
      "text/plain": [
       "<Figure size 432x288 with 1 Axes>"
      ]
     },
     "metadata": {
      "needs_background": "light"
     },
     "output_type": "display_data"
    }
   ],
   "source": [
    "plt.plot(t_eval, y[:,3], label = 'a11')\n",
    "plt.plot(t_eval, y[:,7], label = 'a22')\n",
    "plt.plot(t_eval, y[:,11], label = 'a33')\n",
    "plt.legend(loc='lower left')\n",
    "plt.grid()\n",
    "plt.show()"
   ]
  },
  {
   "cell_type": "code",
   "execution_count": null,
   "metadata": {},
   "outputs": [],
   "source": []
  }
 ],
 "metadata": {
  "kernelspec": {
   "display_name": "Python 3",
   "language": "python",
   "name": "python3"
  },
  "language_info": {
   "codemirror_mode": {
    "name": "ipython",
    "version": 3
   },
   "file_extension": ".py",
   "mimetype": "text/x-python",
   "name": "python",
   "nbconvert_exporter": "python",
   "pygments_lexer": "ipython3",
   "version": "3.8.8"
  }
 },
 "nbformat": 4,
 "nbformat_minor": 4
}
